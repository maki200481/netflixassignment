{
 "cells": [
  {
   "cell_type": "code",
   "execution_count": 1,
   "id": "d04304a4",
   "metadata": {},
   "outputs": [],
   "source": [
    "#Declaring libraries\n",
    "import pandas as pd\n",
    "import matplotlib.pyplot as plt\n",
    "import seaborn as sns\n",
    "\n",
    "#Declaring the path\n",
    "path = r'C:\\Users\\ekpiwhre nwamaka\\Downloads\\netflix_data.csv'\n",
    "df = pd.read_csv(path)\n",
    "\n"
   ]
  },
  {
   "cell_type": "markdown",
   "id": "c1f975ab",
   "metadata": {},
   "source": [
    "## Data Preparation"
   ]
  },
  {
   "cell_type": "code",
   "execution_count": 2,
   "id": "3d09ce2a",
   "metadata": {},
   "outputs": [],
   "source": [
    "# Renaming the dataset to \"Netflix_shows_movies.\"\n",
    "Netflix_shows_movies = df"
   ]
  },
  {
   "cell_type": "code",
   "execution_count": 3,
   "id": "95346041",
   "metadata": {},
   "outputs": [
    {
     "data": {
      "text/plain": [
       "(6234, 12)"
      ]
     },
     "execution_count": 3,
     "metadata": {},
     "output_type": "execute_result"
    }
   ],
   "source": [
    "Netflix_shows_movies.shape"
   ]
  },
  {
   "cell_type": "code",
   "execution_count": 4,
   "id": "5b3d5255",
   "metadata": {},
   "outputs": [
    {
     "data": {
      "text/html": [
       "<div>\n",
       "<style scoped>\n",
       "    .dataframe tbody tr th:only-of-type {\n",
       "        vertical-align: middle;\n",
       "    }\n",
       "\n",
       "    .dataframe tbody tr th {\n",
       "        vertical-align: top;\n",
       "    }\n",
       "\n",
       "    .dataframe thead th {\n",
       "        text-align: right;\n",
       "    }\n",
       "</style>\n",
       "<table border=\"1\" class=\"dataframe\">\n",
       "  <thead>\n",
       "    <tr style=\"text-align: right;\">\n",
       "      <th></th>\n",
       "      <th>show_id</th>\n",
       "      <th>type</th>\n",
       "      <th>title</th>\n",
       "      <th>director</th>\n",
       "      <th>cast</th>\n",
       "      <th>country</th>\n",
       "      <th>date_added</th>\n",
       "      <th>release_year</th>\n",
       "      <th>rating</th>\n",
       "      <th>duration</th>\n",
       "      <th>listed_in</th>\n",
       "      <th>description</th>\n",
       "    </tr>\n",
       "  </thead>\n",
       "  <tbody>\n",
       "    <tr>\n",
       "      <th>0</th>\n",
       "      <td>81145628</td>\n",
       "      <td>Movie</td>\n",
       "      <td>Norm of the North: King Sized Adventure</td>\n",
       "      <td>Richard Finn, Tim Maltby</td>\n",
       "      <td>Alan Marriott, Andrew Toth, Brian Dobson, Cole...</td>\n",
       "      <td>United States, India, South Korea, China</td>\n",
       "      <td>September 9, 2019</td>\n",
       "      <td>2019</td>\n",
       "      <td>TV-PG</td>\n",
       "      <td>90 min</td>\n",
       "      <td>Children &amp; Family Movies, Comedies</td>\n",
       "      <td>Before planning an awesome wedding for his gra...</td>\n",
       "    </tr>\n",
       "    <tr>\n",
       "      <th>1</th>\n",
       "      <td>80117401</td>\n",
       "      <td>Movie</td>\n",
       "      <td>Jandino: Whatever it Takes</td>\n",
       "      <td>NaN</td>\n",
       "      <td>Jandino Asporaat</td>\n",
       "      <td>United Kingdom</td>\n",
       "      <td>September 9, 2016</td>\n",
       "      <td>2016</td>\n",
       "      <td>TV-MA</td>\n",
       "      <td>94 min</td>\n",
       "      <td>Stand-Up Comedy</td>\n",
       "      <td>Jandino Asporaat riffs on the challenges of ra...</td>\n",
       "    </tr>\n",
       "    <tr>\n",
       "      <th>2</th>\n",
       "      <td>70234439</td>\n",
       "      <td>TV Show</td>\n",
       "      <td>Transformers Prime</td>\n",
       "      <td>NaN</td>\n",
       "      <td>Peter Cullen, Sumalee Montano, Frank Welker, J...</td>\n",
       "      <td>United States</td>\n",
       "      <td>September 8, 2018</td>\n",
       "      <td>2013</td>\n",
       "      <td>TV-Y7-FV</td>\n",
       "      <td>1 Season</td>\n",
       "      <td>Kids' TV</td>\n",
       "      <td>With the help of three human allies, the Autob...</td>\n",
       "    </tr>\n",
       "    <tr>\n",
       "      <th>3</th>\n",
       "      <td>80058654</td>\n",
       "      <td>TV Show</td>\n",
       "      <td>Transformers: Robots in Disguise</td>\n",
       "      <td>NaN</td>\n",
       "      <td>Will Friedle, Darren Criss, Constance Zimmer, ...</td>\n",
       "      <td>United States</td>\n",
       "      <td>September 8, 2018</td>\n",
       "      <td>2016</td>\n",
       "      <td>TV-Y7</td>\n",
       "      <td>1 Season</td>\n",
       "      <td>Kids' TV</td>\n",
       "      <td>When a prison ship crash unleashes hundreds of...</td>\n",
       "    </tr>\n",
       "    <tr>\n",
       "      <th>4</th>\n",
       "      <td>80125979</td>\n",
       "      <td>Movie</td>\n",
       "      <td>#realityhigh</td>\n",
       "      <td>Fernando Lebrija</td>\n",
       "      <td>Nesta Cooper, Kate Walsh, John Michael Higgins...</td>\n",
       "      <td>United States</td>\n",
       "      <td>September 8, 2017</td>\n",
       "      <td>2017</td>\n",
       "      <td>TV-14</td>\n",
       "      <td>99 min</td>\n",
       "      <td>Comedies</td>\n",
       "      <td>When nerdy high schooler Dani finally attracts...</td>\n",
       "    </tr>\n",
       "  </tbody>\n",
       "</table>\n",
       "</div>"
      ],
      "text/plain": [
       "    show_id     type                                    title  \\\n",
       "0  81145628    Movie  Norm of the North: King Sized Adventure   \n",
       "1  80117401    Movie               Jandino: Whatever it Takes   \n",
       "2  70234439  TV Show                       Transformers Prime   \n",
       "3  80058654  TV Show         Transformers: Robots in Disguise   \n",
       "4  80125979    Movie                             #realityhigh   \n",
       "\n",
       "                   director  \\\n",
       "0  Richard Finn, Tim Maltby   \n",
       "1                       NaN   \n",
       "2                       NaN   \n",
       "3                       NaN   \n",
       "4          Fernando Lebrija   \n",
       "\n",
       "                                                cast  \\\n",
       "0  Alan Marriott, Andrew Toth, Brian Dobson, Cole...   \n",
       "1                                   Jandino Asporaat   \n",
       "2  Peter Cullen, Sumalee Montano, Frank Welker, J...   \n",
       "3  Will Friedle, Darren Criss, Constance Zimmer, ...   \n",
       "4  Nesta Cooper, Kate Walsh, John Michael Higgins...   \n",
       "\n",
       "                                    country         date_added  release_year  \\\n",
       "0  United States, India, South Korea, China  September 9, 2019          2019   \n",
       "1                            United Kingdom  September 9, 2016          2016   \n",
       "2                             United States  September 8, 2018          2013   \n",
       "3                             United States  September 8, 2018          2016   \n",
       "4                             United States  September 8, 2017          2017   \n",
       "\n",
       "     rating  duration                           listed_in  \\\n",
       "0     TV-PG    90 min  Children & Family Movies, Comedies   \n",
       "1     TV-MA    94 min                     Stand-Up Comedy   \n",
       "2  TV-Y7-FV  1 Season                            Kids' TV   \n",
       "3     TV-Y7  1 Season                            Kids' TV   \n",
       "4     TV-14    99 min                            Comedies   \n",
       "\n",
       "                                         description  \n",
       "0  Before planning an awesome wedding for his gra...  \n",
       "1  Jandino Asporaat riffs on the challenges of ra...  \n",
       "2  With the help of three human allies, the Autob...  \n",
       "3  When a prison ship crash unleashes hundreds of...  \n",
       "4  When nerdy high schooler Dani finally attracts...  "
      ]
     },
     "execution_count": 4,
     "metadata": {},
     "output_type": "execute_result"
    }
   ],
   "source": [
    "#printing the first 5 records\n",
    "Netflix_shows_movies.head(5)"
   ]
  },
  {
   "cell_type": "code",
   "execution_count": 5,
   "id": "8838b3e7",
   "metadata": {},
   "outputs": [
    {
     "name": "stdout",
     "output_type": "stream",
     "text": [
      "<class 'pandas.core.frame.DataFrame'>\n",
      "RangeIndex: 6234 entries, 0 to 6233\n",
      "Data columns (total 12 columns):\n",
      " #   Column        Non-Null Count  Dtype \n",
      "---  ------        --------------  ----- \n",
      " 0   show_id       6234 non-null   int64 \n",
      " 1   type          6234 non-null   object\n",
      " 2   title         6234 non-null   object\n",
      " 3   director      4265 non-null   object\n",
      " 4   cast          5664 non-null   object\n",
      " 5   country       5758 non-null   object\n",
      " 6   date_added    6223 non-null   object\n",
      " 7   release_year  6234 non-null   int64 \n",
      " 8   rating        6224 non-null   object\n",
      " 9   duration      6234 non-null   object\n",
      " 10  listed_in     6234 non-null   object\n",
      " 11  description   6234 non-null   object\n",
      "dtypes: int64(2), object(10)\n",
      "memory usage: 584.6+ KB\n"
     ]
    }
   ],
   "source": [
    "#checking dataset to understand the structure, data type and non-null count\n",
    "data_info = Netflix_shows_movies.info()\n",
    "data_info"
   ]
  },
  {
   "cell_type": "code",
   "execution_count": 6,
   "id": "b5a31939",
   "metadata": {},
   "outputs": [
    {
     "data": {
      "text/plain": [
       "show_id            0\n",
       "type               0\n",
       "title              0\n",
       "director        1969\n",
       "cast             570\n",
       "country          476\n",
       "date_added        11\n",
       "release_year       0\n",
       "rating            10\n",
       "duration           0\n",
       "listed_in          0\n",
       "description        0\n",
       "dtype: int64"
      ]
     },
     "execution_count": 6,
     "metadata": {},
     "output_type": "execute_result"
    }
   ],
   "source": [
    "#Checking for missing values\n",
    "missing_values = Netflix_shows_movies.isnull().sum()\n",
    "\n",
    "missing_values"
   ]
  },
  {
   "cell_type": "markdown",
   "id": "472c75a0",
   "metadata": {},
   "source": [
    "## Data Cleaning"
   ]
  },
  {
   "cell_type": "markdown",
   "id": "65c4c001",
   "metadata": {},
   "source": [
    "Director: 1969 missing values - Seeing that the analysis won't focus on directors, we will replace with a placeholder of 'unknown'\n",
    "\n",
    "Cast: 570 missing values - The effect of the missing in our analysis is also inconsequential and may also be replaced with the 'unknown' place holder\n",
    "\n",
    "Country: 476 missing values - We will fill with most common country\n",
    "\n",
    "Date Added: 11 missing values - We will fill with mode of the most common date added\n",
    "\n",
    "Rating: 10 missing values -  We will fill with mode of the most common rating"
   ]
  },
  {
   "cell_type": "code",
   "execution_count": 7,
   "id": "081b9411",
   "metadata": {},
   "outputs": [],
   "source": [
    "# Filling director with 'Unknown'\n",
    "Netflix_shows_movies['director'].fillna('Unknown', inplace=True)\n",
    "\n",
    "# Filling cast with 'Unknown'  \n",
    "Netflix_shows_movies['cast'].fillna('Unknown', inplace=True)\n",
    "\n",
    "# Filling country with the most common country\n",
    "most_common_country = Netflix_shows_movies['country'].mode()[0]\n",
    "Netflix_shows_movies['country'].fillna(most_common_country, inplace=True)\n",
    "\n",
    "# Filling date_added with the mode (most common date added)\n",
    "most_common_date_added = Netflix_shows_movies['date_added'].mode()[0]\n",
    "Netflix_shows_movies['date_added'].fillna(most_common_date_added, inplace=True)\n",
    "\n",
    "# Fill rating with the mode (most common rating)\n",
    "most_common_rating = Netflix_shows_movies['rating'].mode()[0]\n",
    "Netflix_shows_movies['rating'].fillna(most_common_rating, inplace=True)"
   ]
  },
  {
   "cell_type": "code",
   "execution_count": 8,
   "id": "22174e69",
   "metadata": {},
   "outputs": [
    {
     "data": {
      "text/plain": [
       "show_id         0\n",
       "type            0\n",
       "title           0\n",
       "director        0\n",
       "cast            0\n",
       "country         0\n",
       "date_added      0\n",
       "release_year    0\n",
       "rating          0\n",
       "duration        0\n",
       "listed_in       0\n",
       "description     0\n",
       "dtype: int64"
      ]
     },
     "execution_count": 8,
     "metadata": {},
     "output_type": "execute_result"
    }
   ],
   "source": [
    "# Checking again for  missing values\n",
    "any_missing_values = Netflix_shows_movies.isnull().sum()\n",
    "any_missing_values"
   ]
  },
  {
   "cell_type": "markdown",
   "id": "b8aa1338",
   "metadata": {},
   "source": [
    "## Data Exploration"
   ]
  },
  {
   "cell_type": "code",
   "execution_count": 9,
   "id": "0b223a82",
   "metadata": {},
   "outputs": [
    {
     "data": {
      "text/html": [
       "<div>\n",
       "<style scoped>\n",
       "    .dataframe tbody tr th:only-of-type {\n",
       "        vertical-align: middle;\n",
       "    }\n",
       "\n",
       "    .dataframe tbody tr th {\n",
       "        vertical-align: top;\n",
       "    }\n",
       "\n",
       "    .dataframe thead th {\n",
       "        text-align: right;\n",
       "    }\n",
       "</style>\n",
       "<table border=\"1\" class=\"dataframe\">\n",
       "  <thead>\n",
       "    <tr style=\"text-align: right;\">\n",
       "      <th></th>\n",
       "      <th>show_id</th>\n",
       "      <th>release_year</th>\n",
       "    </tr>\n",
       "  </thead>\n",
       "  <tbody>\n",
       "    <tr>\n",
       "      <th>count</th>\n",
       "      <td>6.234000e+03</td>\n",
       "      <td>6234.00000</td>\n",
       "    </tr>\n",
       "    <tr>\n",
       "      <th>mean</th>\n",
       "      <td>7.670368e+07</td>\n",
       "      <td>2013.35932</td>\n",
       "    </tr>\n",
       "    <tr>\n",
       "      <th>std</th>\n",
       "      <td>1.094296e+07</td>\n",
       "      <td>8.81162</td>\n",
       "    </tr>\n",
       "    <tr>\n",
       "      <th>min</th>\n",
       "      <td>2.477470e+05</td>\n",
       "      <td>1925.00000</td>\n",
       "    </tr>\n",
       "    <tr>\n",
       "      <th>25%</th>\n",
       "      <td>8.003580e+07</td>\n",
       "      <td>2013.00000</td>\n",
       "    </tr>\n",
       "    <tr>\n",
       "      <th>50%</th>\n",
       "      <td>8.016337e+07</td>\n",
       "      <td>2016.00000</td>\n",
       "    </tr>\n",
       "    <tr>\n",
       "      <th>75%</th>\n",
       "      <td>8.024489e+07</td>\n",
       "      <td>2018.00000</td>\n",
       "    </tr>\n",
       "    <tr>\n",
       "      <th>max</th>\n",
       "      <td>8.123573e+07</td>\n",
       "      <td>2020.00000</td>\n",
       "    </tr>\n",
       "  </tbody>\n",
       "</table>\n",
       "</div>"
      ],
      "text/plain": [
       "            show_id  release_year\n",
       "count  6.234000e+03    6234.00000\n",
       "mean   7.670368e+07    2013.35932\n",
       "std    1.094296e+07       8.81162\n",
       "min    2.477470e+05    1925.00000\n",
       "25%    8.003580e+07    2013.00000\n",
       "50%    8.016337e+07    2016.00000\n",
       "75%    8.024489e+07    2018.00000\n",
       "max    8.123573e+07    2020.00000"
      ]
     },
     "execution_count": 9,
     "metadata": {},
     "output_type": "execute_result"
    }
   ],
   "source": [
    "# Descriptive statistics for numerical columns\n",
    "numerical_summary = Netflix_shows_movies.describe()\n",
    "numerical_summary"
   ]
  },
  {
   "cell_type": "code",
   "execution_count": 10,
   "id": "1e664d35",
   "metadata": {},
   "outputs": [
    {
     "data": {
      "text/html": [
       "<div>\n",
       "<style scoped>\n",
       "    .dataframe tbody tr th:only-of-type {\n",
       "        vertical-align: middle;\n",
       "    }\n",
       "\n",
       "    .dataframe tbody tr th {\n",
       "        vertical-align: top;\n",
       "    }\n",
       "\n",
       "    .dataframe thead th {\n",
       "        text-align: right;\n",
       "    }\n",
       "</style>\n",
       "<table border=\"1\" class=\"dataframe\">\n",
       "  <thead>\n",
       "    <tr style=\"text-align: right;\">\n",
       "      <th></th>\n",
       "      <th>type</th>\n",
       "      <th>title</th>\n",
       "      <th>director</th>\n",
       "      <th>cast</th>\n",
       "      <th>country</th>\n",
       "      <th>date_added</th>\n",
       "      <th>rating</th>\n",
       "      <th>duration</th>\n",
       "      <th>listed_in</th>\n",
       "      <th>description</th>\n",
       "    </tr>\n",
       "  </thead>\n",
       "  <tbody>\n",
       "    <tr>\n",
       "      <th>count</th>\n",
       "      <td>6234</td>\n",
       "      <td>6234</td>\n",
       "      <td>6234</td>\n",
       "      <td>6234</td>\n",
       "      <td>6234</td>\n",
       "      <td>6234</td>\n",
       "      <td>6234</td>\n",
       "      <td>6234</td>\n",
       "      <td>6234</td>\n",
       "      <td>6234</td>\n",
       "    </tr>\n",
       "    <tr>\n",
       "      <th>unique</th>\n",
       "      <td>2</td>\n",
       "      <td>6172</td>\n",
       "      <td>3302</td>\n",
       "      <td>5470</td>\n",
       "      <td>554</td>\n",
       "      <td>1524</td>\n",
       "      <td>14</td>\n",
       "      <td>201</td>\n",
       "      <td>461</td>\n",
       "      <td>6226</td>\n",
       "    </tr>\n",
       "    <tr>\n",
       "      <th>top</th>\n",
       "      <td>Movie</td>\n",
       "      <td>The Silence</td>\n",
       "      <td>Unknown</td>\n",
       "      <td>Unknown</td>\n",
       "      <td>United States</td>\n",
       "      <td>January 1, 2020</td>\n",
       "      <td>TV-MA</td>\n",
       "      <td>1 Season</td>\n",
       "      <td>Documentaries</td>\n",
       "      <td>A surly septuagenarian gets another chance at ...</td>\n",
       "    </tr>\n",
       "    <tr>\n",
       "      <th>freq</th>\n",
       "      <td>4265</td>\n",
       "      <td>3</td>\n",
       "      <td>1969</td>\n",
       "      <td>570</td>\n",
       "      <td>2508</td>\n",
       "      <td>133</td>\n",
       "      <td>2037</td>\n",
       "      <td>1321</td>\n",
       "      <td>299</td>\n",
       "      <td>3</td>\n",
       "    </tr>\n",
       "  </tbody>\n",
       "</table>\n",
       "</div>"
      ],
      "text/plain": [
       "         type        title director     cast        country       date_added  \\\n",
       "count    6234         6234     6234     6234           6234             6234   \n",
       "unique      2         6172     3302     5470            554             1524   \n",
       "top     Movie  The Silence  Unknown  Unknown  United States  January 1, 2020   \n",
       "freq     4265            3     1969      570           2508              133   \n",
       "\n",
       "       rating  duration      listed_in  \\\n",
       "count    6234      6234           6234   \n",
       "unique     14       201            461   \n",
       "top     TV-MA  1 Season  Documentaries   \n",
       "freq     2037      1321            299   \n",
       "\n",
       "                                              description  \n",
       "count                                                6234  \n",
       "unique                                               6226  \n",
       "top     A surly septuagenarian gets another chance at ...  \n",
       "freq                                                    3  "
      ]
     },
     "execution_count": 10,
     "metadata": {},
     "output_type": "execute_result"
    }
   ],
   "source": [
    "# Descriptive statistics for categorical columns\n",
    "categorical_summary = Netflix_shows_movies.describe(include=['object'])\n",
    "categorical_summary"
   ]
  },
  {
   "cell_type": "code",
   "execution_count": 11,
   "id": "21263296",
   "metadata": {},
   "outputs": [
    {
     "data": {
      "text/plain": [
       "Movie      4265\n",
       "TV Show    1969\n",
       "Name: type, dtype: int64"
      ]
     },
     "execution_count": 11,
     "metadata": {},
     "output_type": "execute_result"
    }
   ],
   "source": [
    "# Exploring Categorical columns: 'type'\n",
    "type_counts = Netflix_shows_movies['type'].value_counts()\n",
    "\n",
    "type_counts"
   ]
  },
  {
   "cell_type": "code",
   "execution_count": 12,
   "id": "75905b31",
   "metadata": {},
   "outputs": [
    {
     "data": {
      "text/plain": [
       "United States     2508\n",
       "India              777\n",
       "United Kingdom     348\n",
       "Japan              176\n",
       "Canada             141\n",
       "Name: country, dtype: int64"
      ]
     },
     "execution_count": 12,
     "metadata": {},
     "output_type": "execute_result"
    }
   ],
   "source": [
    "# Exploring Categorical columns: 'country'\n",
    "country_counts = Netflix_shows_movies['country'].value_counts()\n",
    "\n",
    "country_counts.head(5)"
   ]
  },
  {
   "cell_type": "code",
   "execution_count": 13,
   "id": "91ff4613",
   "metadata": {},
   "outputs": [
    {
     "data": {
      "text/plain": [
       "TV-MA    2037\n",
       "TV-14    1698\n",
       "TV-PG     701\n",
       "R         508\n",
       "PG-13     286\n",
       "Name: rating, dtype: int64"
      ]
     },
     "execution_count": 13,
     "metadata": {},
     "output_type": "execute_result"
    }
   ],
   "source": [
    "# Exploring Categorical columns: 'rating'\n",
    "rating_counts = Netflix_shows_movies['rating'].value_counts()\n",
    "\n",
    "rating_counts.head(5)"
   ]
  },
  {
   "cell_type": "code",
   "execution_count": 14,
   "id": "b635360e",
   "metadata": {},
   "outputs": [],
   "source": [
    "# Checking unique values for certain key columns\n",
    "unique_shows = Netflix_shows_movies['title'].nunique()\n",
    "unique_directors = Netflix_shows_movies['director'].nunique()\n",
    "unique_cast = Netflix_shows_movies['cast'].nunique()"
   ]
  },
  {
   "cell_type": "code",
   "execution_count": 15,
   "id": "40a4c399",
   "metadata": {},
   "outputs": [
    {
     "data": {
      "text/plain": [
       "(6172, 3302, 5470)"
      ]
     },
     "execution_count": 15,
     "metadata": {},
     "output_type": "execute_result"
    }
   ],
   "source": [
    "unique_shows, unique_directors, unique_cast"
   ]
  },
  {
   "cell_type": "markdown",
   "id": "19e5dfa6",
   "metadata": {},
   "source": [
    "## Data Visualization"
   ]
  },
  {
   "cell_type": "code",
   "execution_count": 16,
   "id": "d3d4423c",
   "metadata": {},
   "outputs": [],
   "source": [
    "#Splitting the 'listed_in' column where genres are listed as comma-separated values\n",
    "genres = Netflix_shows_movies['listed_in'].str.split(', ').explode()\n",
    "genre_counts = genres.value_counts()"
   ]
  },
  {
   "cell_type": "code",
   "execution_count": 19,
   "id": "dfe4cd7f",
   "metadata": {},
   "outputs": [
    {
     "data": {
      "image/png": "[encoded data removed]",
      "text/plain": [
       "<Figure size 864x576 with 1 Axes>"
      ]
     },
     "metadata": {
      "needs_background": "light"
     },
     "output_type": "display_data"
    }
   ],
   "source": [
    "# Visualization for Most watched genres\n",
    "plt.figure(figsize=(12, 8))\n",
    "genre_counts.head(10).plot(kind='bar', color='darkblue')\n",
    "plt.title('Top 10 Most Watched Genres on Netflix')\n",
    "plt.xlabel('Genre')\n",
    "plt.ylabel('Number of Titles')\n",
    "plt.xticks(rotation=45)\n",
    "plt.grid(True, linestyle='--', alpha=0.6)\n",
    "plt.show()"
   ]
  },
  {
   "cell_type": "code",
   "execution_count": 20,
   "id": "3cff0c2f",
   "metadata": {},
   "outputs": [
    {
     "data": {
      "image/png": "[encoded data removed]",
      "text/plain": [
       "<Figure size 864x576 with 1 Axes>"
      ]
     },
     "metadata": {
      "needs_background": "light"
     },
     "output_type": "display_data"
    }
   ],
   "source": [
    "# Preparing data for ratings distribution\n",
    "ratings_counts = Netflix_shows_movies['rating'].value_counts()\n",
    "\n",
    "# Creating visualization for ratings distribution\n",
    "plt.figure(figsize=(12, 8))\n",
    "ratings_counts.plot(kind='bar', color='teal')\n",
    "plt.title('Distribution of Ratings on Netflix')\n",
    "plt.xlabel('Rating')\n",
    "plt.ylabel('Number of Titles')\n",
    "plt.xticks(rotation=45)\n",
    "plt.grid(True, linestyle='--', alpha=0.6)\n",
    "plt.show()"
   ]
  },
  {
   "cell_type": "code",
   "execution_count": null,
   "id": "f11bd51b",
   "metadata": {},
   "outputs": [],
   "source": []
  }
 ],
 "metadata": {
  "kernelspec": {
   "display_name": "Python 3 (ipykernel)",
   "language": "python",
   "name": "python3"
  },
  "language_info": {
   "codemirror_mode": {
    "name": "ipython",
    "version": 3
   },
   "file_extension": ".py",
   "mimetype": "text/x-python",
   "name": "python",
   "nbconvert_exporter": "python",
   "pygments_lexer": "ipython3",
   "version": "3.9.7"
  }
 },
 "nbformat": 4,
 "nbformat_minor": 5
}
